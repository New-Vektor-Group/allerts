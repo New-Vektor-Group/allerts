{
 "cells": [
  {
   "cell_type": "markdown",
   "metadata": {},
   "source": [
    "# NASA Space Apps 2020\n",
    "## Automated Detection of Hazards  \n",
    "  \n",
    "____________________  \n",
    "\n",
    "Here we do predictions and save them to the DB"
   ]
  },
  {
   "cell_type": "code",
   "execution_count": null,
   "metadata": {},
   "outputs": [],
   "source": [
    "import time\n",
    "import datetime\n",
    "import keras\n",
    "import mysql.connector\n",
    "import pandas as pd\n",
    "import math"
   ]
  },
  {
   "cell_type": "markdown",
   "metadata": {},
   "source": [
    "*Our columns: landslide_type\tlandslide_size\ttrigger\tinjuries\tfatalities*"
   ]
  },
  {
   "cell_type": "markdown",
   "metadata": {},
   "source": [
    "### Make predictions for next days"
   ]
  },
  {
   "cell_type": "code",
   "execution_count": null,
   "metadata": {},
   "outputs": [],
   "source": [
    "model = keras.models.load_model(\"./model.hdf5\")"
   ]
  },
  {
   "cell_type": "markdown",
   "metadata": {},
   "source": [
    "## MYSQL"
   ]
  },
  {
   "cell_type": "code",
   "execution_count": null,
   "metadata": {},
   "outputs": [],
   "source": [
    "mydb = mysql.connector.connect(\n",
    "  host=\"localhost\",\n",
    "  user=\"root\",\n",
    "  password=\"\",\n",
    "  database=\"stati\"\n",
    ")\n",
    "print(mydb)"
   ]
  },
  {
   "cell_type": "markdown",
   "metadata": {},
   "source": [
    "## Points to predict"
   ]
  },
  {
   "cell_type": "code",
   "execution_count": null,
   "metadata": {},
   "outputs": [],
   "source": [
    "#POINTS FOR DEMO\n",
    "points = [\n",
    "    [47.027963, 28.837133,\"Moldova\"],\n",
    "    [47.756670, 27.908760,\"Moldova\"],\n",
    "    [47.375748, 28.822655,\"Moldova\"],\n",
    "    \n",
    "    [50.400586, 30.451840,\"Ukraine\"],\n",
    "    [49.811988, 23.997584,\"Ukraine\"],\n",
    "    [49.391303, 26.991186,\"Ukraine\"],\n",
    "    \n",
    "    [44.337761, 26.009808,\"Romania\"],\n",
    "    [46.585592, 23.492343,\"Romania\"],\n",
    "    [44.250436, 23.753458,\"Romania\"]\n",
    "]"
   ]
  },
  {
   "cell_type": "markdown",
   "metadata": {},
   "source": [
    "## Prepare data info"
   ]
  },
  {
   "cell_type": "code",
   "execution_count": null,
   "metadata": {},
   "outputs": [],
   "source": [
    "df=pd.read_csv(\"landslides.csv\")\n",
    "df[\"landslide_type\"]=df[\"landslide_type\"].str.lower()\n",
    "df[\"landslide_size\"]=df[\"landslide_size\"].str.lower()\n",
    "df[\"trigger\"]=df[\"trigger\"].str.lower()\n",
    "df = df[df.landslide_type != \"unknown\"]\n",
    "df = df[df.trigger != \"unknown\"]\n",
    "df=df.fillna(0)\n",
    "df = df[df.trigger != 0]\n",
    "\n",
    "landslide_types = list(set(df['landslide_type']))\n",
    "landslide_sizes = list(set(df['landslide_size']))\n",
    "triggers = list(set(df['trigger']))"
   ]
  },
  {
   "cell_type": "code",
   "execution_count": null,
   "metadata": {},
   "outputs": [],
   "source": [
    "#1st day\n",
    "for p in points:\n",
    "    data = model.predict(x=np.array([[1.001,p[0],p[1]]]))[0]\n",
    "    mycursor = mydb.cursor()\n",
    "\n",
    "    print(data)\n",
    "    \n",
    "    sql = \"INSERT INTO redalert (la, lo, hazard, types, size, trig, injuries, fatalities, prob_trig, country) VALUES (%s, %s, %s, %s, %s, %s, %s, %s, %s, %s)\"\n",
    "    val = (p[0],p[1],\"landslides\",landslide_types[math.floor(data[0])],landslide_sizes[math.floor(data[1])],triggers[math.floor(data[2])],str(data[3]),str(data[4]),data[2]-math.floor(data[2]),p[2])\n",
    "    mycursor.execute(sql, val)\n",
    "\n",
    "    mydb.commit()"
   ]
  },
  {
   "cell_type": "code",
   "execution_count": null,
   "metadata": {},
   "outputs": [],
   "source": []
  }
 ],
 "metadata": {
  "kernelspec": {
   "display_name": "Python 3",
   "language": "python",
   "name": "python3"
  },
  "language_info": {
   "codemirror_mode": {
    "name": "ipython",
    "version": 3
   },
   "file_extension": ".py",
   "mimetype": "text/x-python",
   "name": "python",
   "nbconvert_exporter": "python",
   "pygments_lexer": "ipython3",
   "version": "3.7.6"
  },
  "varInspector": {
   "cols": {
    "lenName": 16,
    "lenType": 16,
    "lenVar": 40
   },
   "kernels_config": {
    "python": {
     "delete_cmd_postfix": "",
     "delete_cmd_prefix": "del ",
     "library": "var_list.py",
     "varRefreshCmd": "print(var_dic_list())"
    },
    "r": {
     "delete_cmd_postfix": ") ",
     "delete_cmd_prefix": "rm(",
     "library": "var_list.r",
     "varRefreshCmd": "cat(var_dic_list()) "
    }
   },
   "types_to_exclude": [
    "module",
    "function",
    "builtin_function_or_method",
    "instance",
    "_Feature"
   ],
   "window_display": false
  }
 },
 "nbformat": 4,
 "nbformat_minor": 4
}
